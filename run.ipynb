{
 "cells": [
  {
   "cell_type": "markdown",
   "id": "12ab897b-c9f4-41dc-9170-18cd99547d18",
   "metadata": {},
   "source": [
    "### Scrape faculty directories"
   ]
  },
  {
   "cell_type": "code",
   "execution_count": 1,
   "id": "47e09e5d-26b6-4d0d-91b2-8afafcf59922",
   "metadata": {},
   "outputs": [],
   "source": [
    "from src.FacultyScraper import AUSScraper, KUScraper"
   ]
  },
  {
   "cell_type": "code",
   "execution_count": 2,
   "id": "4b59d46a-9b3e-43e7-8a77-aa75b05db408",
   "metadata": {},
   "outputs": [],
   "source": [
    "kusc = KUScraper()\n",
    "kusc.scrape_faculty()\n",
    "kusc.to_csv()"
   ]
  },
  {
   "cell_type": "code",
   "execution_count": 3,
   "id": "2d303331-5559-44a2-857c-6c209d2dbe7a",
   "metadata": {},
   "outputs": [],
   "source": [
    "aussc = AUSScraper()\n",
    "aussc.scrape_faculty()\n",
    "aussc.to_csv()"
   ]
  }
 ],
 "metadata": {
  "kernelspec": {
   "display_name": "Python 3 (ipykernel)",
   "language": "python",
   "name": "python3"
  },
  "language_info": {
   "codemirror_mode": {
    "name": "ipython",
    "version": 3
   },
   "file_extension": ".py",
   "mimetype": "text/x-python",
   "name": "python",
   "nbconvert_exporter": "python",
   "pygments_lexer": "ipython3",
   "version": "3.8.5"
  }
 },
 "nbformat": 4,
 "nbformat_minor": 5
}
